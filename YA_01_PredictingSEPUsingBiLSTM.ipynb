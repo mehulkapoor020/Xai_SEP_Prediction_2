{
 "cells": [
  {
   "cell_type": "markdown",
   "metadata": {},
   "source": [
    "# **Predicting Solar Energetic Particles Using SDO/HMI Vector Magnetic Data Products and a Bidirectional LSTM Network**"
   ]
  },
  {
   "cell_type": "markdown",
   "metadata": {
    "toc": true
   },
   "source": [
    "<h1><b>Table of Contents</b><span class=\"tocSkip\"></span> </h1>\n",
    "<div class=\"toc\">\n",
    "<!--     <ul class=\"toc-item\"> -->\n",
    "        <li><span><a href=\"#Template-Notebook-for-EarthCube---Long-Version\"\n",
    "                    data-toc-modified-id=\"Template-Notebook-for-EarthCube---Long-Version-1\"><span\n",
    "                        class=\"toc-item-num\">1&nbsp;&nbsp;</span>YA_Predicting Solar Energetic Particles Using SDO/HMI Vector Magnetic Data Products and a Bidirectional LSTM Network\n",
    "                    Learning</a></span>\n",
    "            <ul class=\"toc-item\" style='margin-top:0px; margin-bottom:0px'>\n",
    "                <li><span><a href=\"#Author(s)\" data-toc-modified-id=\"Author(s)-1.1\"><span\n",
    "                                class=\"toc-item-num\">1.1&nbsp;&nbsp;</span>Author(s)</a></span></li>\n",
    "                <li><span><a href=\"#Purpose\" data-toc-modified-id=\"Purpose-1.2\"><span\n",
    "                                class=\"toc-item-num\">1.2&nbsp;&nbsp;</span>Purpose</a></span></li>\n",
    "                <li><span><a href=\"#Technical-Contributions\" data-toc-modified-id=\"Technical-Contributions-1.3\"><span\n",
    "                                class=\"toc-item-num\">1.3&nbsp;&nbsp;</span>Technical Contributions</a></span></li>\n",
    "                <li><span><a href=\"#Methodology\" data-toc-modified-id=\"Methodology-1.4\"><span\n",
    "                                class=\"toc-item-num\">1.4&nbsp;&nbsp;</span>Methodology</a></span></li>\n",
    "                <li><span><a href=\"#Funding\" data-toc-modified-id=\"Funding-1.6\"><span\n",
    "                                class=\"toc-item-num\">1.5&nbsp;&nbsp;</span>Funding</a></span></li>\n",
    "                <li><span><a href=\"#Keywords\" data-toc-modified-id=\"Keywords-1.7\"><span\n",
    "                                class=\"toc-item-num\">1.6&nbsp;&nbsp;</span>Keywords</a></span></li>\n",
    "                <li><span><a href=\"#Citation\" data-toc-modified-id=\"Citation-1.8\"><span\n",
    "                                class=\"toc-item-num\">1.7&nbsp;&nbsp;</span>Citation</a></span></li>\n",
    "                <li><span style='display:inline'><a href=\"#Acknowledgements\" data-toc-modified-id=\"Acknowledgements-1.11\"><span\n",
    "                        class=\"toc-item-num\">1.8&nbsp;&nbsp;</span>Acknowledgements</a></span></li>                \n",
    "            </ul>\n",
    "        </li>\n",
    "<!--     </ul> -->\n",
    "    <li><span><a href=\"#Setup\" data-toc-modified-id=\"Setup-2\"><span\n",
    "                    class=\"toc-item-num\">2&nbsp;&nbsp;</span>Setup</a></span>\n",
    "    </li>\n",
    "    <li><span><a href=\"#Data-Processing-and-Analysis\" data-toc-modified-id=\"Data-Processing-and-Analysis-3\"><span\n",
    "                    class=\"toc-item-num\">3&nbsp;&nbsp;</span>Data Processing and Analysis</a></span></li>\n",
    "    <li><span><a href=\"#Binder\" data-toc-modified-id=\"Binder-4\"><span\n",
    "                    class=\"toc-item-num\">4&nbsp;&nbsp;</span>Binder</a></span></li>\n",
    "    <li><span><a href=\"#SEP-BiLSTM-Workflow-and-Results\" data-toc-modified-id=\"SEP-BiLSTM-Workflow-5\"><span\n",
    "                    class=\"toc-item-num\">5&nbsp;&nbsp;</span>SEP BiLSTM Workflow and Results</a></span>\n",
    "        <ul class=\"toc-item\" style='margin-top:0px;margin-bottom:0px'>\n",
    "            <li>\n",
    "                <span><a href=\"#Data-Preparation-and-Loading\"\n",
    "                        data-toc-modified-id=\"Data-Preparation-and-Loading-5.1\"><span\n",
    "                            class=\"toc-item-num\">5.1&nbsp;&nbsp;</span>Data Preparation and Loading</a></span>\n",
    "            </li>\n",
    "            <li>\n",
    "                <span><a href=\"#Predicting-with-Pretrained-Models\"\n",
    "                        data-toc-modified-id=\"Predicting-with-Pretrained Models-5.6\"><span\n",
    "                            class=\"toc-item-num\">5.2&nbsp;&nbsp;</span>Predicting with Pretrained Models</a></span>\n",
    "            </li>            \n",
    "            <li>\n",
    "                <span><a href=\"#Plotting-the-Pretrained-Models-Results\"\n",
    "                        data-toc-modified-id=\"#Plotting-the-Pretrained-Models-Results-5.3\"><span\n",
    "                            class=\"toc-item-num\">5.3&nbsp;&nbsp;</span>Plotting the Pretrained Models Results</a></span>\n",
    "            </li>\n",
    "            <li>\n",
    "                <span><a href=\"#BiLSTM-Model-Training-and-Testing-Example\"\n",
    "                        data-toc-modified-id=\"BiLSTM-Model-Training-and-Testing-Example-5.4\"><span\n",
    "                            class=\"toc-item-num\">5.4&nbsp;&nbsp;</span>BiLSTM Model Training and Testing Example</a></span>\n",
    "            </li>\n",
    "            <li>\n",
    "                <span><a href=\"#BiLSTM-Model-Training-with-Sample-Data\"\n",
    "                        data-toc-modified-id=\"BiLSTM-Model-Training-with-Sample-Data\"><span\n",
    "                            class=\"toc-item-num\">5.5&nbsp;&nbsp;</span>BiLSTM Model Training with Sample Data</a></span>\n",
    "            </li>\n",
    "            <li>\n",
    "                <span><a href=\"#Predicting-with-Your-Trained-BiLSTM-Model\"\n",
    "                        data-toc-modified-id=\"Predicting-with-Your-Trained-BiLSTM Model\"><span\n",
    "                            class=\"toc-item-num\">5.6&nbsp;&nbsp;</span>Predicting with Your Trained BiLSTM Model</a></span>\n",
    "            </li>\n",
    "            <li>\n",
    "                <span><a href=\"#Plotting-the-Results-for-Your-Trained-Model\"\n",
    "                        data-toc-modified-id=\"Plotting-the-Results-for-Your-Trained-Model\"><span\n",
    "                            class=\"toc-item-num\">5.6&nbsp;&nbsp;</span>Plotting the Results for Your Trained Model</a></span>\n",
    "            </li> \n",
    "            <li>\n",
    "                <span><a href=\"#Timing\"\n",
    "                        data-toc-modified-id=\"Timing-5.7\"><span\n",
    "                            class=\"toc-item-num\">5.7&nbsp;&nbsp;</span>Timing</a></span>\n",
    "            </li>            \n",
    "        </ul>\n",
    "    </li>\n",
    "<!--     </ul> -->\n",
    "</div>            \n",
    "        </ul>\n",
    "    </li>\n",
    "    <li><span><a href=\"#Conclusions\" data-toc-modified-id=\"Conclusions-6\"><span\n",
    "                    class=\"toc-item-num\">6&nbsp;&nbsp;</span>Conclusions</a></span>\n",
    "    </li>\n",
    "    <li><span><a href=\"#References\" data-toc-modified-id=\"References-7\"><span\n",
    "                    class=\"toc-item-num\">7&nbsp;&nbsp;</span>References</a></span>\n",
    "    </li>    \n",
    "    </ul>\n",
    "</div>"
   ]
  },
  {
   "cell_type": "markdown",
   "metadata": {},
   "source": [
    "### **Author(s)**\n",
    "- Author1 = {\"name\": \"Yasser Abduallah\", \"affiliation\": \"Department of Computer Science, New Jersey Institute of Technology\", \"email\": \"ya54@njit.edu\", \"orcid\": \"https://orcid.org/0000-0003-0792-2270\"}\n",
    "- Author2 = {\"name\": \"Vania K. Jordanova\", \"affiliation\": \"Space Science and Applications, Los Alamos National Laboratory, Los Alamos, NM\", \"email\": \"vania@lanl.gov\", \"orcid\": \"https://orcid.org/0000-0003-0475-8743\"}\n",
    "- Author3 = {\"name\": \"Hao Liu\", \"affiliation\": \"Department of Computer Science, New Jersey Institute of Technology\", \"email\": \"hl422@njit.edu\", \"orcid\": \"https://orcid.org/0000-0002-1975-1272\"}\n",
    "- Author4 = {\"name\": \" Qin Li\", \"affiliation\": \"Big Bear Solar Observatory, New Jersey Institute of Technology, 40386 North Shore Lane, Big Bear City, CA 92314, USA\", \"email\": \"ql47@njit.edu\", \"orcid\": \"https://orcid.org/0000-0002-6178-7471\"}\n",
    "- Author5 = {\"name\": \"Jason T. L. Wang\", \"affiliation\": \"Department of Computer Science, New Jersey Institute of Technology\", \"email\": \"wangj@njit.edu\", \"orcid\": \"https://orcid.org/0000-0002-2486-1097\"}\n",
    "- Author6 = {\"name\": \"Haimin Wang\", \"affiliation\": \"Institute for Space Weather Sciences, New Jersey Institute of Technology\", \"email\": \"haimin.wang@njit.edu\", \"orcid\": \"https://orcid.org/0000-0002-5233-565X\"}"
   ]
  },
  {
   "cell_type": "markdown",
   "metadata": {},
   "source": [
    "### **Purpose**\n",
    "Solar energetic particles (SEPs) are an essential source of space radiation, and are hazardous for humans in space,\n",
    "spacecraft, and technology in general. We provide a deep-learning method, specifically a bidirectional long short-term memory (biLSTM) network, to predict if an active region (AR) would produce an SEP event given that (i) the AR will produce an M- or X-class flare and a coronal mass ejection (CME) associated with the flare, or (ii) the AR will produce an M- or X-class flare regardless of whether or not the flare is associated with a CME. \n",
    "\n",
    "We aim to solve the following two binary prediction problems. [FC_S problem] Given a data sample x<sub>t</sub> at time point t in an AR where the AR will produce an M- or X-class flare within the next *T* hours of t and the flare initiates a CME, we predict whether x<sub>t</sub> is positive or negative. Predicting x<sub>t</sub> to be positive means that the AR will produce an SEP event associated with the flare/CME. Predicting x<sub>t</sub> to be negative means that the AR will not produce an SEP event associated with the flare/CME. [F_S problem] Given a data sample x<sub>t</sub> at time point t in an AR where the AR will produce an M- or X-class flare within the next *T* hours of t regardless of whether or not the flare initiates a CME, we predict whether x<sub>t</sub> is positive or negative. Predicting x<sub>t</sub> to be positive means that the AR will produce an SEP event associated with the flare. Predicting x<sub>t</sub> to be negative means that the AR will not produce an SEP event associated with the flare. For both of the two binary prediction problems, we consider *T* ranging from 12 to 72 in 12 hr intervals.\n",
    "\n",
    "\n",
    "In this notebook we provide an overview of the BiLSTM system to demonstrate how to predict SEP using deep learning (DL) and SDO/HMI vector magnetic data products (SHARP parameters).\n",
    "\n",
    "### **Technical Contributions**\n",
    "\n",
    "- We provide the community with a new tool to predict the occurrance of solar energetic particles (SEP) for the next 12, 24, 36, 48, 60, or 72 hours ahead.\n",
    "\n",
    "\n",
    "### **Methodology**\n",
    "\n",
    "Here we present a prediction system, named BiLSTM, for predicting  solar energetic particles using deep learning (DL) based on HMI’s vector magnetic data products. The data samples used in this study are collected from the Geostationary Operational Environmental Satelliteʼs X-ray flare catalogs provided by the National Centers for Environmental Information. We select M- and X-class flares with identified ARs in the catalogs for the period between 2010 and 2021, and find the associations of flares,\n",
    "CMEs, and SEPs in the Space Weather Database of Notifications, Knowledge, Information during the same period. Each data sample contains physical parameters collected from the Helioseismic and Magnetic Imager on board the\n",
    "Solar Dynamics Observatory. Specifically, we collected SHARP data samples from the data series, hmi.sharp_cea_720s, using the Python package SunPy at a cadence of 12 minutes. In collecting the data samples, we focused on 18 physical parameters previously used for SEP predictions. Appropriately labeling the data samples is crucial for machine learning. We surveyed M- and X-class flares that occurred between 2010 and 2021 with identified ARs in the GOES X-ray flare catalogs provided by the National Centers for Environmental Information (NCEI). \n",
    "\n",
    "\n",
    "To solve the binary prediction problems. Consider  the FC_S problem where *T* = 24 hr. Here we want to predict whether a given test data sample x<sub>t</sub> at time point t is positive (blue) or negative (green) given that there will be an M- or X-class flare within the next 24 hr of t, and the flare initiates a CME. If there is an SEP event associated with the flare/CME, and we predict x<sub>t</sub> to be positive (blue), then this is a correct prediction as illustrated in Figure 1(c). If there is an SEP event associated with the flare/CME, but we predict x<sub>t</sub> to be negative (green), then this is a wrong prediction as illustrated in Figure 1(e). On the other hand, if there is no SEP event associated with the flare/CME, and we predict x<sub>t</sub> to be negative (green), then this is a correct prediction as illustrated in Figure 1(d). If there is no SEP event associated with the flare/CME, but we predict x<sub>t</sub> to be positive (blue), then this is a wrong prediction as illustrated in Figure 1(f). The F_S problem is solved similarly.\n",
    "\n",
    "  \n",
    "  <img src=\"figures/figure1.jpg\" width=\"750\"/>\n",
    "\n",
    "<br>\n",
    "\n",
    "\n",
    "The architecture of the BiLSTM network is shown in Figure 2 and described as follow. Yellow boxes represent biLSTM cells. These cells are connected to an attention layer (A) that contains m neurons, which are connected to a fully connected layer (FCL). (In the study presented here, m is set to 10.) During testing/prediction, the input to the network is a test data sequence with m consecutive data samples x<sub>t−m+1</sub>, x<sub>t−m+2</sub> ... x<sub>t−1</sub>, x<sub>t</sub> where x<sub>t</sub> is the test data sample at time point t. The trained BiLSTM network predicts the label (color) of the test data sequence, more precisely the label (color) of x<sub>t</sub> . The output layer of the BiLSTM network calculates a probability ($\\hat{y}$) between 0 and 1. If $\\hat{y}$ is greater than or equal to a threshold, which is set to 0.5, the BiLSTM network outputs 1 and predicts x<sub>t</sub> to be positive, i.e., predicts the label (color) of x<sub>t</sub> to be blue; see Figure 1. Otherwise, the BiLSTM network outputs 0 and predicts x<sub>t</sub> to be negative, i.e., predicts the label (color) of x<sub>t</sub> to be green; see Figure 1.\n",
    "<img src=\"figures/figure2.jpg\" width=\"750\" />\n",
    "\n",
    "<br>\n",
    "\n",
    "This notebook leverages python deep learning to describe the steps on how to use the BiLSTM tool to predict the binary SEP classification problems we are sovling.\n",
    "\n",
    "### **Funding**\n",
    "This work was supported by U.S. NSF grants AGS-1927578 and AGS-1954737 and supported by NASA under grants 80NSSC18K1705, 80NSSC19K0068, and 80NSSC20K1282.\n",
    "\n",
    "### **Keywords**\n",
    "keywords=[\"Flare\", \"Prediction\", \"Machine\", \"Learning\", \"SHARP\",\"Solar\",'Particles\",\"Energetic\",\"Coronal\",\"Mass\",\"Ejection\"]\n",
    "\n",
    "### **Citation**\n",
    "To cite this notebook: Yasser Abduallah, Vania K. Jordanova, Hao Liu, Qin Li, Jason T. L. Wang, and Haimin Wang. Predicting Solar Energetic Particles Using SDO/HMI Vector Magnetic Data Products and a Bidirectional LSTM Network, available at: <a href='https://github.com/ccsc-tools/SEP-prediction/blob/main/YA_01_PredictingSEPUsingBiLSTM.ipynb' target='new'>https://github.com/ccsc-tools/SEP-prediction/blob/main/YA_01_PredictingSEPUsingBiLSTM.ipynb</a>.\n",
    "\n",
    "\n",
    "\n",
    "### **Acknowledgements** \n",
    "\n",
    "We thank the team of SDO/HMI for producing vector magnetic data products. The flare catalogs were prepared by and made available through NOAA NCEI.\n",
    "And we also thank Manolis K. Georgoulis for helpful conversations in the SHINE 2019 Conference."
   ]
  },
  {
   "cell_type": "markdown",
   "metadata": {},
   "source": [
    "# **Setup**\n",
    "\n",
    "**Installation on Local Machine**<br>\n",
    "Running this notebook in a local machine requires Python version 3.9.x with the following packages and their version:\n",
    "\n",
    "|Library | Version   | Description  |\n",
    "|---|---|---|\n",
    "|keras| 2.6.0 | Deep learning API|\n",
    "|numpy| 1.19.5| Array manipulation|\n",
    "|scikit-learn| 1.0.1| Machine learning|\n",
    "| pandas|1.4.1| Data loading and manipulation|\n",
    "| tensorboard| 2.8.0| Provides the visualization and tooling needed for machine learning|\n",
    "| tensorflow-gpu| 2.6.0| Deep learning tool for high performance computation |\n",
    "| tensorflow-estimator | 2.8.0| A high-level TensorFlow API. Estimators encapsulate the training, prediction, and evalution functions |\n",
    "|matplotlib | 3.4.3| Visualization and charts required for notebook only||\n",
    "\n",
    "<br>\n",
    "<!--table>\n",
    "    <tr>\n",
    "        <td>Library</td><td>Version</td><td>Description</td>\n",
    "    </tr>\n",
    "    <tr>\n",
    "        <td>keras </td><td> 2.6.0 </td><td align=\"left\"> Deep learning API</td>\n",
    "    </tr>\n",
    "    <tr>\n",
    "        <td>numpy</td><td> 1.19.5</td><td> Array manipulation</td>\n",
    "    </tr>\n",
    "    <tr>\n",
    "        <td>scikit-learn</td><td> 1.0.1</td><td> Machine learning</td>\n",
    "    </tr>\n",
    "    <tr>\n",
    "        <td> pandas</td><td>1.4.1</td><td> Data loading and manipulation</td>\n",
    "    </tr>\n",
    "    <tr>\n",
    "        <td> tensorboard</td><td> 2.8.0</td><td> Provides the visualization and tooling needed for machine learning</td>\n",
    "    </tr>\n",
    "    <tr>\n",
    "        <td> tensorflow-gpu</td><td> 2.6.0</td><td> Deep learning tool for high performance computation </td>\n",
    "    </tr>\n",
    "</table-->"
   ]
  },
  {
   "cell_type": "markdown",
   "metadata": {},
   "source": [
    "You may install the package using Python pip packages manager as follows:\n",
    "\n",
    "pip install tensorflow-gpu==2.6.0 tensorflow-estimator==2.8.0 numpy==1.19.5  pandas==1.4.1  keras==2.6.0  scikit-learn==1.0.1 matplotlib==3.4.3\n",
    "\n",
    "\n",
    " **Library Import**<br>\n",
    "The following libraries need to be imported."
   ]
  },
  {
   "cell_type": "code",
   "execution_count": 1,
   "metadata": {
    "scrolled": true
   },
   "outputs": [
    {
     "name": "stdout",
     "output_type": "stream",
     "text": [
      "Importing packages..\n",
      "Packages imported\n",
      "Changing working directory to SEP_Package..\n"
     ]
    }
   ],
   "source": [
    "#supress warning messages\n",
    "import warnings\n",
    "warnings.filterwarnings('ignore')\n",
    "print('Importing packages..')\n",
    "# Data manipulation\n",
    "import pandas as pd\n",
    "import numpy as np\n",
    "import os\n",
    "print('Packages imported')\n",
    "#make sure the scripts are executed in the correct pacakage location.\n",
    "if os.path.exists('SEP_Package'):\n",
    "    print('Changing working directory to SEP_Package..')\n",
    "    os.chdir('SEP_Package')\n",
    "import sys\n",
    "sys.path.append('.') \n"
   ]
  },
  {
   "cell_type": "markdown",
   "metadata": {},
   "source": [
    "# **Data Processing and Analysis**\n",
    "We collected and extracted information from NASA's Space Weather Database of Notifications, Knowledge, Information (DONKI) to tag, for any given M- or X-class flare, whether it produced a CME and/or SEP event. We cross-checked the flare records in DONKI and GOES X-ray flare catalogs to ensure that each flare record was associated with an AR; otherwise the flare record was removed from our study.\n",
    "\n",
    "We then created two databases of ARs for the period between 2010 and 2021. ARs from 2010, 2016, and 2018–2021 were excluded from the study due to the lack of qualified data samples or the absence of SEP events associated with M-/X-class flares and CMEs. Thus, the databases contain ARs from six years, namely 2011–2015 and 2017. In our first database, referred to as the FC_S database, each record corresponds to an AR, contains an M- or X-class flare as well as a CME associated with the flare, and is tagged by whether the flare/CME produce an SEP event. In this database, there are 31 records tagged by \"yes\" indicating they are associated with SEP events while there are 97 records tagged by \"no\" indicating they are not associated with SEP events. In our second database, referred to as the F_S database, each record corresponds to an AR, contains an M- or X-class flare, and is tagged by whether the flare produces an SEP event regardless of whether or not the flare initiates a CME. In this database, there are 40 records tagged by \"yes\" indicating they are associated with SEP events while there are 700 records tagged by \"no\" indicating they are not associated with SEP events.\n"
   ]
  },
  {
   "cell_type": "markdown",
   "metadata": {},
   "source": [
    "# **Binder**\n",
    "\n",
    "This notebook is Binder enabled and can be run on <a target='new' href='https://mybinder.org/'>mybinder.org</a> by using the image link below:\n",
    "\n",
    "<p float=\"left\"> <a href='https://mybinder.org/v2/gh/ccsc-tools/SEP-prediction/HEAD?labpath=YA_01_PredictingSEPUsingBiLSTM.ipynb' target='new'><img align=\"left\" src='https://mybinder.org/badge_logo.svg'></img></a></p>\n",
    "\n",
    "<br><br>\n",
    "Please note that starting Binder might take some time to create and start the image.\n",
    "\n"
   ]
  },
  {
   "cell_type": "markdown",
   "metadata": {},
   "source": [
    "# **SEP BiLSTM Workflow and Results**\n"
   ]
  },
  {
   "cell_type": "markdown",
   "metadata": {},
   "source": [
    "### **Data Preparation and Loading**\n",
    "The data directory inside the SEP_Package folder includes all training and test data sets required to run the run the notebook.\n",
    "* The CSV files start with events_fc_testing are used to test the first SEP prediction FC_S.\n",
    "* The CSV files start with events_fc_training are used to train the first SEP prediction FC_S.\n",
    "* The CSV files start with events_f_testing are used to train the second SEP prediction F_S.\n",
    "* The CSV files start with events_f_training are used to train the second SEP prediction F_S.\n",
    "\n",
    "\n",
    "The files are loaded and used during the testing and training process."
   ]
  },
  {
   "cell_type": "markdown",
   "metadata": {},
   "source": [
    "### **Predicting with Pretrained Models**\n",
    "There are default and pretrained models that can be used to predict without running your own trained model. The models_directory  is set to default_models which uses all pretrained algorithms."
   ]
  },
  {
   "cell_type": "code",
   "execution_count": 2,
   "metadata": {
    "scrolled": false
   },
   "outputs": [
    {
     "name": "stdout",
     "output_type": "stream",
     "text": [
      "WARNING: GPU device not found.\n",
      "WARNING: GPU device not found.\n",
      "Test default models for first classification type FC_S and for all time windows: 12 to 72 hours.\n",
      "Running classification test type: FC_S  training for h = 12 hour ahead\n",
      "testing data file: data/events_fc_testing_12.csv\n",
      "Loading the model and its weights.\n",
      "Printing weightdir and wdir\n",
      "models/sep_model_fc_12hr\n",
      "default_models\n",
      "Loading weights from model dir: default_models/sep_model_fc_12hr\n",
      "Building model for: default_models/sep_model_fc_12hr/model_weights\n"
     ]
    },
    {
     "name": "stderr",
     "output_type": "stream",
     "text": [
      "WARNING:absl:At this time, the v2.11+ optimizer `tf.keras.optimizers.Adam` runs slowly on M1/M2 Macs, please use the legacy Keras optimizer instead, located at `tf.keras.optimizers.legacy.Adam`.\n",
      "WARNING:absl:There is a known slowdown when using v2.11+ Keras optimizers on M1/M2 Macs. Falling back to the legacy Keras optimizer, i.e., `tf.keras.optimizers.legacy.Adam`.\n"
     ]
    },
    {
     "name": "stdout",
     "output_type": "stream",
     "text": [
      "Loading weights from: default_models/sep_model_fc_12hr/model_weights\n",
      "Loading data from data file: data/events_fc_testing_12.csv\n",
      "Prediction and calibration..\n",
      "Saving result to file: results/SEP_prediction_results_FC_S_12.csv\n",
      "Saving the performance metrics to files: default_results/SEP_performance_metrics_BiLSTM_FC_S_12.csv\n",
      "-------------------------------------------------------\n",
      "\n",
      "Loading data from data file: data/events_fc_training_12.csv\n",
      "Loading data from data file: data/events_fc_testing_12.csv\n",
      "Original X_train shape: (3534, 10, 15)\n",
      "Original X_test shape: (509, 12, 14)\n",
      "Printing weightdir and wdir\n",
      "models/sep_model_fc_12hr\n",
      "default_models\n",
      "Loading weights from model dir: default_models/sep_model_fc_12hr\n",
      "Building model for: default_models/sep_model_fc_12hr/model_weights\n"
     ]
    },
    {
     "name": "stderr",
     "output_type": "stream",
     "text": [
      "WARNING:absl:At this time, the v2.11+ optimizer `tf.keras.optimizers.Adam` runs slowly on M1/M2 Macs, please use the legacy Keras optimizer instead, located at `tf.keras.optimizers.legacy.Adam`.\n",
      "WARNING:absl:There is a known slowdown when using v2.11+ Keras optimizers on M1/M2 Macs. Falling back to the legacy Keras optimizer, i.e., `tf.keras.optimizers.legacy.Adam`.\n"
     ]
    },
    {
     "name": "stdout",
     "output_type": "stream",
     "text": [
      "Loading weights from: default_models/sep_model_fc_12hr/model_weights\n",
      "Reshaped X_train shape: (3534, 150)\n",
      "Reshaped X_test shape: (509, 168)\n"
     ]
    },
    {
     "ename": "ValueError",
     "evalue": "cannot reshape array of size 840 into shape (5,10,15)",
     "output_type": "error",
     "traceback": [
      "\u001b[0;31m---------------------------------------------------------------------------\u001b[0m",
      "\u001b[0;31mValueError\u001b[0m                                Traceback (most recent call last)",
      "Cell \u001b[0;32mIn[2], line 9\u001b[0m\n\u001b[1;32m      7\u001b[0m starting_time_window\u001b[38;5;241m=\u001b[39m\u001b[38;5;241m12\u001b[39m\n\u001b[1;32m      8\u001b[0m ending_time_window\u001b[38;5;241m=\u001b[39m \u001b[38;5;241m12\u001b[39m\n\u001b[0;32m----> 9\u001b[0m \u001b[43mtest\u001b[49m\u001b[43m(\u001b[49m\u001b[43mclassification_type\u001b[49m\u001b[43m,\u001b[49m\u001b[43mstarting_time_window\u001b[49m\u001b[43m,\u001b[49m\u001b[43mending_time_window\u001b[49m\u001b[38;5;241;43m+\u001b[39;49m\u001b[38;5;241;43m1\u001b[39;49m\u001b[43m,\u001b[49m\u001b[43mmodels_directory\u001b[49m\u001b[38;5;241;43m=\u001b[39;49m\u001b[43mmodels_directory\u001b[49m\u001b[43m)\u001b[49m\n",
      "File \u001b[0;32m~/Vs code projects/RA Citation projects/Xai/SEP-prediction/SEP_Package/SEP_test.py:133\u001b[0m, in \u001b[0;36mtest\u001b[0;34m(e_type, start_hour, end_hour, models_directory)\u001b[0m\n\u001b[1;32m    109\u001b[0m \u001b[38;5;66;03m# x_test, y_test, nb_test, columns = load_data(datafile= testing_data_file)\u001b[39;00m\n\u001b[1;32m    110\u001b[0m \u001b[38;5;66;03m# x_train_orig, y_train_orig = x_train[:], y_train[:] \u001b[39;00m\n\u001b[1;32m    111\u001b[0m \u001b[38;5;66;03m# x_train_ex = np.append(x_train, x_test)\u001b[39;00m\n\u001b[0;32m   (...)\u001b[0m\n\u001b[1;32m    124\u001b[0m \n\u001b[1;32m    125\u001b[0m \u001b[38;5;66;03m# x_train = x_train.reshape(x_train.shape[0], train_shape_orig[1], train_shape_orig[2])\u001b[39;00m\n\u001b[1;32m    127\u001b[0m x_test, y_test, nb_test, columns \u001b[38;5;241m=\u001b[39m load_data(datafile \u001b[38;5;241m=\u001b[39m testing_data_file, \n\u001b[1;32m    128\u001b[0m                                              series_len\u001b[38;5;241m=\u001b[39mseries_len, \n\u001b[1;32m    129\u001b[0m                                              n_features\u001b[38;5;241m=\u001b[39mn_features)\n\u001b[0;32m--> 133\u001b[0m \u001b[43mmodel\u001b[49m\u001b[38;5;241;43m.\u001b[39;49m\u001b[43msepxai\u001b[49m\u001b[43m(\u001b[49m\u001b[43mx_train\u001b[49m\u001b[43m,\u001b[49m\u001b[43m \u001b[49m\u001b[43mx_test\u001b[49m\u001b[43m,\u001b[49m\u001b[43m \u001b[49m\u001b[43my_test\u001b[49m\u001b[43m)\u001b[49m\n",
      "File \u001b[0;32m~/Vs code projects/RA Citation projects/Xai/SEP-prediction/SEP_Package/SEP_model.py:232\u001b[0m, in \u001b[0;36mSEPModel.sepxai\u001b[0;34m(self, X_train, X_test, y_test)\u001b[0m\n\u001b[1;32m    229\u001b[0m lime \u001b[38;5;241m=\u001b[39m LimeTabular(predict_fn, X_train_reshaped)\n\u001b[1;32m    231\u001b[0m \u001b[38;5;66;03m# Use the reshaped 2D test data for LIME explanations\u001b[39;00m\n\u001b[0;32m--> 232\u001b[0m show(\u001b[43mlime\u001b[49m\u001b[38;5;241;43m.\u001b[39;49m\u001b[43mexplain_local\u001b[49m\u001b[43m(\u001b[49m\u001b[43mX_test_reshaped\u001b[49m\u001b[43m[\u001b[49m\u001b[43m:\u001b[49m\u001b[38;5;241;43m5\u001b[39;49m\u001b[43m]\u001b[49m\u001b[43m,\u001b[49m\u001b[43m \u001b[49m\u001b[43my_test\u001b[49m\u001b[43m[\u001b[49m\u001b[43m:\u001b[49m\u001b[38;5;241;43m5\u001b[39;49m\u001b[43m]\u001b[49m\u001b[43m)\u001b[49m, \u001b[38;5;241m0\u001b[39m)\n",
      "File \u001b[0;32m~/Vs code projects/RA Citation projects/Xai/SEP-prediction/SEPxai/lib/python3.9/site-packages/interpret/blackbox/_lime.py:89\u001b[0m, in \u001b[0;36mLimeTabular.explain_local\u001b[0;34m(self, X, y, name, **kwargs)\u001b[0m\n\u001b[1;32m     83\u001b[0m     n_samples \u001b[38;5;241m=\u001b[39m \u001b[38;5;28mlen\u001b[39m(y)\n\u001b[1;32m     85\u001b[0m X, n_samples \u001b[38;5;241m=\u001b[39m preclean_X(\n\u001b[1;32m     86\u001b[0m     X, \u001b[38;5;28mself\u001b[39m\u001b[38;5;241m.\u001b[39mfeature_names_in_, \u001b[38;5;28mself\u001b[39m\u001b[38;5;241m.\u001b[39mfeature_types_in_, n_samples\n\u001b[1;32m     87\u001b[0m )\n\u001b[0;32m---> 89\u001b[0m predict_fn, n_classes, classes \u001b[38;5;241m=\u001b[39m \u001b[43mdetermine_classes\u001b[49m\u001b[43m(\u001b[49m\u001b[38;5;28;43mself\u001b[39;49m\u001b[38;5;241;43m.\u001b[39;49m\u001b[43mmodel\u001b[49m\u001b[43m,\u001b[49m\u001b[43m \u001b[49m\u001b[43mX\u001b[49m\u001b[43m,\u001b[49m\u001b[43m \u001b[49m\u001b[43mn_samples\u001b[49m\u001b[43m)\u001b[49m\n\u001b[1;32m     90\u001b[0m \u001b[38;5;28;01mif\u001b[39;00m \u001b[38;5;241m3\u001b[39m \u001b[38;5;241m<\u001b[39m\u001b[38;5;241m=\u001b[39m n_classes:\n\u001b[1;32m     91\u001b[0m     \u001b[38;5;28;01mraise\u001b[39;00m \u001b[38;5;167;01mException\u001b[39;00m(\u001b[38;5;124m\"\u001b[39m\u001b[38;5;124mmulticlass LIME not supported\u001b[39m\u001b[38;5;124m\"\u001b[39m)\n",
      "File \u001b[0;32m~/Vs code projects/RA Citation projects/Xai/SEP-prediction/SEPxai/lib/python3.9/site-packages/interpret/utils/_unify_predict.py:68\u001b[0m, in \u001b[0;36mdetermine_classes\u001b[0;34m(model, data, n_samples)\u001b[0m\n\u001b[1;32m     66\u001b[0m         \u001b[38;5;28;01mraise\u001b[39;00m \u001b[38;5;167;01mValueError\u001b[39;00m(msg)\n\u001b[1;32m     67\u001b[0m \u001b[38;5;28;01melse\u001b[39;00m:\n\u001b[0;32m---> 68\u001b[0m     preds \u001b[38;5;241m=\u001b[39m clean_dimensions(\u001b[43mmodel\u001b[49m\u001b[43m(\u001b[49m\u001b[43mdata\u001b[49m\u001b[43m)\u001b[49m, \u001b[38;5;124m\"\u001b[39m\u001b[38;5;124mmodel\u001b[39m\u001b[38;5;124m\"\u001b[39m)\n\u001b[1;32m     69\u001b[0m     \u001b[38;5;28;01mif\u001b[39;00m n_samples \u001b[38;5;241m==\u001b[39m \u001b[38;5;241m1\u001b[39m:  \u001b[38;5;66;03m# then the sample dimension would have been eliminated\u001b[39;00m\n\u001b[1;32m     70\u001b[0m         \u001b[38;5;28;01mif\u001b[39;00m preds\u001b[38;5;241m.\u001b[39mndim \u001b[38;5;241m!=\u001b[39m \u001b[38;5;241m1\u001b[39m:\n",
      "File \u001b[0;32m~/Vs code projects/RA Citation projects/Xai/SEP-prediction/SEP_Package/SEP_model.py:224\u001b[0m, in \u001b[0;36mSEPModel.sepxai.<locals>.predict_fn\u001b[0;34m(Xdata)\u001b[0m\n\u001b[1;32m    222\u001b[0m \u001b[38;5;28;01mdef\u001b[39;00m \u001b[38;5;21mpredict_fn\u001b[39m(Xdata):\n\u001b[1;32m    223\u001b[0m     \u001b[38;5;66;03m# Reshape the 2D data back to 3D for prediction by the model\u001b[39;00m\n\u001b[0;32m--> 224\u001b[0m     Xdata_reshaped \u001b[38;5;241m=\u001b[39m \u001b[43mXdata\u001b[49m\u001b[38;5;241;43m.\u001b[39;49m\u001b[43mreshape\u001b[49m\u001b[43m(\u001b[49m\u001b[43m(\u001b[49m\u001b[43mXdata\u001b[49m\u001b[38;5;241;43m.\u001b[39;49m\u001b[43mshape\u001b[49m\u001b[43m[\u001b[49m\u001b[38;5;241;43m0\u001b[39;49m\u001b[43m]\u001b[49m\u001b[43m,\u001b[49m\u001b[43m \u001b[49m\u001b[43mX_train\u001b[49m\u001b[38;5;241;43m.\u001b[39;49m\u001b[43mshape\u001b[49m\u001b[43m[\u001b[49m\u001b[38;5;241;43m1\u001b[39;49m\u001b[43m]\u001b[49m\u001b[43m,\u001b[49m\u001b[43m \u001b[49m\u001b[43mX_train\u001b[49m\u001b[38;5;241;43m.\u001b[39;49m\u001b[43mshape\u001b[49m\u001b[43m[\u001b[49m\u001b[38;5;241;43m2\u001b[39;49m\u001b[43m]\u001b[49m\u001b[43m)\u001b[49m\u001b[43m)\u001b[49m  \u001b[38;5;66;03m# (samples, time steps, features)\u001b[39;00m\n\u001b[1;32m    225\u001b[0m     predictions \u001b[38;5;241m=\u001b[39m modelxai\u001b[38;5;241m.\u001b[39mpredict(Xdata_reshaped, verbose\u001b[38;5;241m=\u001b[39m\u001b[38;5;241m0\u001b[39m)\n\u001b[1;32m    226\u001b[0m     \u001b[38;5;28;01mreturn\u001b[39;00m predictions\u001b[38;5;241m.\u001b[39mflatten()\n",
      "\u001b[0;31mValueError\u001b[0m: cannot reshape array of size 840 into shape (5,10,15)"
     ]
    }
   ],
   "source": [
    "#Test default models for FC_S for 12-72 hours.\n",
    "from SEP_test import test\n",
    "\n",
    "models_directory='default_models'\n",
    "print('Test default models for first classification type FC_S and for all time windows: 12 to 72 hours.')\n",
    "classification_type='FC_S'\n",
    "starting_time_window=12\n",
    "ending_time_window= 12\n",
    "test(classification_type,starting_time_window,ending_time_window+1,models_directory=models_directory)"
   ]
  },
  {
   "cell_type": "code",
   "execution_count": 3,
   "metadata": {
    "scrolled": false
   },
   "outputs": [
    {
     "name": "stdout",
     "output_type": "stream",
     "text": [
      "Test default models for second classification type F_S and for all time windows: 12 to 72 hours.\n",
      "Running classification test type: F_S  training for h = 12 hour ahead\n",
      "testing data file: data/events_f_testing_12.csv\n",
      "Loading the model and its weights.\n",
      "Printing weightdir and wdir\n",
      "models/sep_model_f_12hr\n",
      "default_models\n",
      "Loading weights from model dir: default_models/sep_model_f_12hr\n",
      "Building model for: default_models/sep_model_f_12hr/model_weights\n"
     ]
    },
    {
     "name": "stderr",
     "output_type": "stream",
     "text": [
      "WARNING:absl:At this time, the v2.11+ optimizer `tf.keras.optimizers.Adam` runs slowly on M1/M2 Macs, please use the legacy Keras optimizer instead, located at `tf.keras.optimizers.legacy.Adam`.\n",
      "WARNING:absl:There is a known slowdown when using v2.11+ Keras optimizers on M1/M2 Macs. Falling back to the legacy Keras optimizer, i.e., `tf.keras.optimizers.legacy.Adam`.\n"
     ]
    },
    {
     "name": "stdout",
     "output_type": "stream",
     "text": [
      "Loading weights from: default_models/sep_model_f_12hr/model_weights\n",
      "Loading data from data file: data/events_f_testing_12.csv\n",
      "Prediction and calibration..\n",
      "Saving result to file: results/SEP_prediction_results_F_S_12.csv\n",
      "Saving the performance metrics to files: default_results/SEP_performance_metrics_BiLSTM_F_S_12.csv\n",
      "-------------------------------------------------------\n",
      "\n"
     ]
    }
   ],
   "source": [
    "#Testing default models for F_S for 12-72 hours.\n",
    "from SEP_test import test\n",
    "\n",
    "models_directory='default_models'\n",
    "print('Test default models for second classification type F_S and for all time windows: 12 to 72 hours.')\n",
    "classification_type='F_S'\n",
    "test(classification_type,starting_time_window,ending_time_window+1,models_directory=models_directory)"
   ]
  },
  {
   "cell_type": "markdown",
   "metadata": {},
   "source": [
    "**Plotting the Pretrained Models Results**<br>\n",
    "The prediction result can be plotted by passing the classification type as a variable to the function plot_result_metrics as shown in the following example. The result shows the performance metrics: Recall, Precision, Balanced Accuracy, HSS, TSS, and Weighted AUC that the model achieves for each time window 12 to 72 hours ahead."
   ]
  },
  {
   "cell_type": "code",
   "execution_count": 5,
   "metadata": {
    "scrolled": false
   },
   "outputs": [
    {
     "data": {
      "image/png": "[encoded data removed]",
      "text/plain": [
       "<Figure size 1200x500 with 1 Axes>"
      ]
     },
     "metadata": {},
     "output_type": "display_data"
    }
   ],
   "source": [
    "from SEP_utils import plot_result_metrics\n",
    "#Plotting result for FC_S\n",
    "plot_result_metrics('FC_S',result_dir='default_results')"
   ]
  },
  {
   "cell_type": "code",
   "execution_count": null,
   "metadata": {
    "scrolled": false
   },
   "outputs": [
    {
     "data": {
      "image/png": "[encoded data removed]",
      "text/plain": [
       "<Figure size 1200x500 with 1 Axes>"
      ]
     },
     "metadata": {},
     "output_type": "display_data"
    }
   ],
   "source": [
    "#Plotting results metrics for F_S\n",
    "from SEP_utils import plot_result_metrics\n",
    "plot_result_metrics('F_S',result_dir='default_results')"
   ]
  },
  {
   "cell_type": "markdown",
   "metadata": {},
   "source": [
    "### **BiLSTM Model Training and Testing Example**\n",
    "**BiLSTM Model Training with Sample Data**<br>\n",
    "Here, we show how to train the model with sample data example. In this exmaple, we show how to train the model for tiwe window h = 12 to 72 hour for the FC_S and F_S classification problems."
   ]
  },
  {
   "cell_type": "code",
   "execution_count": 5,
   "metadata": {
    "scrolled": false
   },
   "outputs": [
    {
     "name": "stdout",
     "output_type": "stream",
     "text": [
      "Loading the train_model function...\n",
      "Tensorflow bakcend version: 2.13.0\n",
      "WARNING: GPU device not found.\n",
      "Training may take a lot longer than it should be because the device does not have GPU.\n",
      "Train model for FC_S classification and time window h=12-72\n",
      "\n",
      "\n",
      "Running classification type: FC_S  training for h = 12 hour ahead\n",
      "Loading data from data file: data/events_fc_training_12.csv\n",
      "Loading data from data file: data/events_fc_testing_12.csv\n",
      "Epoch 1/1\n"
     ]
    },
    {
     "name": "stderr",
     "output_type": "stream",
     "text": [
      "WARNING:absl:At this time, the v2.11+ optimizer `tf.keras.optimizers.Adam` runs slowly on M1/M2 Macs, please use the legacy Keras optimizer instead, located at `tf.keras.optimizers.legacy.Adam`.\n",
      "WARNING:absl:There is a known slowdown when using v2.11+ Keras optimizers on M1/M2 Macs. Falling back to the legacy Keras optimizer, i.e., `tf.keras.optimizers.legacy.Adam`.\n"
     ]
    },
    {
     "name": "stdout",
     "output_type": "stream",
     "text": [
      "1/1 [==============================] - 1s 752ms/step\n",
      "Hello2\n",
      "Hello3\n",
      "Hello4\n",
      "Finished training.\n",
      "---------------------------------------------\n",
      "\n"
     ]
    }
   ],
   "source": [
    "#Training for FC_S 12-72 hours on sample data.\n",
    "print('Loading the train_model function...')\n",
    "from SEP_train import train_model\n",
    "print('Train model for FC_S classification and time window h=12-72')\n",
    "classification_type='FC_S'\n",
    "starting_time_window=12\n",
    "ending_time_window= 12 \n",
    "\n",
    "train_model(classification_type,starting_time_window,ending_time_window+1)"
   ]
  },
  {
   "cell_type": "code",
   "execution_count": 6,
   "metadata": {
    "scrolled": true
   },
   "outputs": [
    {
     "name": "stdout",
     "output_type": "stream",
     "text": [
      "Loading the train_model function...\n",
      "Train model for F_S classification and time window h=12-72\n",
      "\n",
      "\n",
      "Running classification type: F_S  training for h = 12 hour ahead\n",
      "Loading data from data file: data/events_f_training_12.csv\n",
      "Loading data from data file: data/events_f_testing_12.csv\n",
      "Epoch 1/1\n"
     ]
    },
    {
     "name": "stderr",
     "output_type": "stream",
     "text": [
      "WARNING:absl:At this time, the v2.11+ optimizer `tf.keras.optimizers.Adam` runs slowly on M1/M2 Macs, please use the legacy Keras optimizer instead, located at `tf.keras.optimizers.legacy.Adam`.\n",
      "WARNING:absl:There is a known slowdown when using v2.11+ Keras optimizers on M1/M2 Macs. Falling back to the legacy Keras optimizer, i.e., `tf.keras.optimizers.legacy.Adam`.\n"
     ]
    },
    {
     "name": "stdout",
     "output_type": "stream",
     "text": [
      "1/1 [==============================] - 1s 776ms/step\n",
      "Hello2\n",
      "Hello3\n",
      "Hello4\n",
      "Finished training.\n",
      "---------------------------------------------\n",
      "\n"
     ]
    }
   ],
   "source": [
    "#Training for FS_S 12-72 hours on sample data.\n",
    "print('Loading the train_model function...')\n",
    "from SEP_train import train_model\n",
    "print('Train model for F_S classification and time window h=12-72')\n",
    "classification_type='F_S'\n",
    "starting_time_window=12\n",
    "ending_time_window= 12\n",
    "\n",
    "train_model(classification_type,starting_time_window,ending_time_window+1)"
   ]
  },
  {
   "cell_type": "markdown",
   "metadata": {},
   "source": [
    "**Predicting with Your Trained BiLSTM Model**<br>\n",
    "To predict the testing data using the model you trained above for the FC_S and F_S classifications, make sure the models_directory variable is set to models:<br> models_directory='models'\n",
    "<br>\n",
    "Note: this is training job is only an example that uses less, training proceses, epochs, therefore the results and performance metrics are not comparable to fully developed pretrained and default models."
   ]
  },
  {
   "cell_type": "code",
   "execution_count": 7,
   "metadata": {
    "scrolled": true
   },
   "outputs": [
    {
     "name": "stdout",
     "output_type": "stream",
     "text": [
      "Test the trained models for first classification type FC_S and for time windows h=12.\n",
      "Running classification test type: FC_S  training for h = 12 hour ahead\n",
      "testing data file: data/events_fc_testing_12.csv\n",
      "Loading the model and its weights.\n",
      "Printing weightdir and wdir\n",
      "models/sep_model_fc_12hr\n",
      "models\n",
      "Loading weights from model dir: models/sep_model_fc_12hr\n",
      "Building model for: models/sep_model_fc_12hr/model_weights\n"
     ]
    },
    {
     "name": "stderr",
     "output_type": "stream",
     "text": [
      "WARNING:absl:At this time, the v2.11+ optimizer `tf.keras.optimizers.Adam` runs slowly on M1/M2 Macs, please use the legacy Keras optimizer instead, located at `tf.keras.optimizers.legacy.Adam`.\n",
      "WARNING:absl:There is a known slowdown when using v2.11+ Keras optimizers on M1/M2 Macs. Falling back to the legacy Keras optimizer, i.e., `tf.keras.optimizers.legacy.Adam`.\n"
     ]
    },
    {
     "name": "stdout",
     "output_type": "stream",
     "text": [
      "Loading weights from: models/sep_model_fc_12hr/model_weights\n",
      "Loading data from data file: data/events_fc_testing_12.csv\n",
      "Prediction and calibration..\n",
      "Saving result to file: results/SEP_prediction_results_FC_S_12.csv\n",
      "Saving the performance metrics to files: results/SEP_performance_metrics_BiLSTM_FC_S_12.csv\n",
      "-------------------------------------------------------\n",
      "\n",
      "Loading data from data file: data/events_fc_training_12.csv\n",
      "Loading data from data file: data/events_fc_testing_12.csv\n",
      "Loading data from data file: data/events_fc_testing_12.csv\n",
      "Original X_train shape: (3534, 10, 15)\n",
      "Original X_test shape: (509, 10, 15)\n",
      "Printing weightdir and wdir\n",
      "models/sep_model_fc_12hr\n",
      "default_models\n",
      "Loading weights from model dir: default_models/sep_model_fc_12hr\n",
      "Building model for: default_models/sep_model_fc_12hr/model_weights\n"
     ]
    },
    {
     "name": "stderr",
     "output_type": "stream",
     "text": [
      "WARNING:absl:At this time, the v2.11+ optimizer `tf.keras.optimizers.Adam` runs slowly on M1/M2 Macs, please use the legacy Keras optimizer instead, located at `tf.keras.optimizers.legacy.Adam`.\n",
      "WARNING:absl:There is a known slowdown when using v2.11+ Keras optimizers on M1/M2 Macs. Falling back to the legacy Keras optimizer, i.e., `tf.keras.optimizers.legacy.Adam`.\n"
     ]
    },
    {
     "name": "stdout",
     "output_type": "stream",
     "text": [
      "Loading weights from: default_models/sep_model_fc_12hr/model_weights\n",
      "Reshaped X_train shape: (3534, 150)\n",
      "Reshaped X_test shape: (509, 150)\n"
     ]
    },
    {
     "ename": "ValueError",
     "evalue": "in user code:\n\n    File \"/Users/mehulkapoor/Vs code projects/RA Citation projects/Xai/SEP-prediction/SEPxai/lib/python3.9/site-packages/keras/src/engine/training.py\", line 2341, in predict_function  *\n        return step_function(self, iterator)\n    File \"/Users/mehulkapoor/Vs code projects/RA Citation projects/Xai/SEP-prediction/SEPxai/lib/python3.9/site-packages/keras/src/engine/training.py\", line 2327, in step_function  **\n        outputs = model.distribute_strategy.run(run_step, args=(data,))\n    File \"/Users/mehulkapoor/Vs code projects/RA Citation projects/Xai/SEP-prediction/SEPxai/lib/python3.9/site-packages/keras/src/engine/training.py\", line 2315, in run_step  **\n        outputs = model.predict_step(data)\n    File \"/Users/mehulkapoor/Vs code projects/RA Citation projects/Xai/SEP-prediction/SEPxai/lib/python3.9/site-packages/keras/src/engine/training.py\", line 2283, in predict_step\n        return self(x, training=False)\n    File \"/Users/mehulkapoor/Vs code projects/RA Citation projects/Xai/SEP-prediction/SEPxai/lib/python3.9/site-packages/keras/src/utils/traceback_utils.py\", line 70, in error_handler\n        raise e.with_traceback(filtered_tb) from None\n    File \"/Users/mehulkapoor/Vs code projects/RA Citation projects/Xai/SEP-prediction/SEPxai/lib/python3.9/site-packages/keras/src/engine/input_spec.py\", line 298, in assert_input_compatibility\n        raise ValueError(\n\n    ValueError: Input 0 of layer \"model_5\" is incompatible with the layer: expected shape=(None, 12, 14), found shape=(None, 10, 15)\n",
     "output_type": "error",
     "traceback": [
      "\u001b[0;31m---------------------------------------------------------------------------\u001b[0m",
      "\u001b[0;31mValueError\u001b[0m                                Traceback (most recent call last)",
      "Cell \u001b[0;32mIn[7], line 9\u001b[0m\n\u001b[1;32m      7\u001b[0m starting_time_window\u001b[38;5;241m=\u001b[39m\u001b[38;5;241m12\u001b[39m\n\u001b[1;32m      8\u001b[0m ending_time_window\u001b[38;5;241m=\u001b[39m \u001b[38;5;241m12\u001b[39m\n\u001b[0;32m----> 9\u001b[0m \u001b[43mtest\u001b[49m\u001b[43m(\u001b[49m\u001b[43mclassification_type\u001b[49m\u001b[43m,\u001b[49m\u001b[43mstarting_time_window\u001b[49m\u001b[43m,\u001b[49m\u001b[43mending_time_window\u001b[49m\u001b[38;5;241;43m+\u001b[39;49m\u001b[38;5;241;43m1\u001b[39;49m\u001b[43m,\u001b[49m\u001b[43mmodels_directory\u001b[49m\u001b[38;5;241;43m=\u001b[39;49m\u001b[43mmodels_directory\u001b[49m\u001b[43m)\u001b[49m\n",
      "File \u001b[0;32m~/Vs code projects/RA Citation projects/Xai/SEP-prediction/SEP_Package/SEP_test.py:133\u001b[0m, in \u001b[0;36mtest\u001b[0;34m(e_type, start_hour, end_hour, models_directory)\u001b[0m\n\u001b[1;32m    125\u001b[0m x_train \u001b[38;5;241m=\u001b[39m x_train\u001b[38;5;241m.\u001b[39mreshape(x_train\u001b[38;5;241m.\u001b[39mshape[\u001b[38;5;241m0\u001b[39m], train_shape_orig[\u001b[38;5;241m1\u001b[39m], train_shape_orig[\u001b[38;5;241m2\u001b[39m])\n\u001b[1;32m    127\u001b[0m x_test, y_test, nb_test, columns \u001b[38;5;241m=\u001b[39m load_data(datafile \u001b[38;5;241m=\u001b[39m testing_data_file, \n\u001b[1;32m    128\u001b[0m                                              series_len\u001b[38;5;241m=\u001b[39mseries_len, \n\u001b[1;32m    129\u001b[0m                                              n_features\u001b[38;5;241m=\u001b[39mn_features)\n\u001b[0;32m--> 133\u001b[0m \u001b[43mmodel\u001b[49m\u001b[38;5;241;43m.\u001b[39;49m\u001b[43msepxai\u001b[49m\u001b[43m(\u001b[49m\u001b[43mx_train\u001b[49m\u001b[43m,\u001b[49m\u001b[43m \u001b[49m\u001b[43mx_test\u001b[49m\u001b[43m,\u001b[49m\u001b[43m \u001b[49m\u001b[43my_test\u001b[49m\u001b[43m)\u001b[49m\n",
      "File \u001b[0;32m~/Vs code projects/RA Citation projects/Xai/SEP-prediction/SEP_Package/SEP_model.py:237\u001b[0m, in \u001b[0;36mSEPModel.sepxai\u001b[0;34m(self, X_train, X_test, y_test)\u001b[0m\n\u001b[1;32m    234\u001b[0m lime \u001b[38;5;241m=\u001b[39m LimeTabular(predict_fn, X_train_reshaped)\n\u001b[1;32m    236\u001b[0m \u001b[38;5;66;03m# Use the reshaped 2D test data for LIME explanations\u001b[39;00m\n\u001b[0;32m--> 237\u001b[0m show(\u001b[43mlime\u001b[49m\u001b[38;5;241;43m.\u001b[39;49m\u001b[43mexplain_local\u001b[49m\u001b[43m(\u001b[49m\u001b[43mX_test_reshaped\u001b[49m\u001b[43m[\u001b[49m\u001b[43m:\u001b[49m\u001b[38;5;241;43m5\u001b[39;49m\u001b[43m]\u001b[49m\u001b[43m,\u001b[49m\u001b[43m \u001b[49m\u001b[43my_test\u001b[49m\u001b[43m[\u001b[49m\u001b[43m:\u001b[49m\u001b[38;5;241;43m5\u001b[39;49m\u001b[43m]\u001b[49m\u001b[43m)\u001b[49m, \u001b[38;5;241m0\u001b[39m)\n",
      "File \u001b[0;32m~/Vs code projects/RA Citation projects/Xai/SEP-prediction/SEPxai/lib/python3.9/site-packages/interpret/blackbox/_lime.py:89\u001b[0m, in \u001b[0;36mLimeTabular.explain_local\u001b[0;34m(self, X, y, name, **kwargs)\u001b[0m\n\u001b[1;32m     83\u001b[0m     n_samples \u001b[38;5;241m=\u001b[39m \u001b[38;5;28mlen\u001b[39m(y)\n\u001b[1;32m     85\u001b[0m X, n_samples \u001b[38;5;241m=\u001b[39m preclean_X(\n\u001b[1;32m     86\u001b[0m     X, \u001b[38;5;28mself\u001b[39m\u001b[38;5;241m.\u001b[39mfeature_names_in_, \u001b[38;5;28mself\u001b[39m\u001b[38;5;241m.\u001b[39mfeature_types_in_, n_samples\n\u001b[1;32m     87\u001b[0m )\n\u001b[0;32m---> 89\u001b[0m predict_fn, n_classes, classes \u001b[38;5;241m=\u001b[39m \u001b[43mdetermine_classes\u001b[49m\u001b[43m(\u001b[49m\u001b[38;5;28;43mself\u001b[39;49m\u001b[38;5;241;43m.\u001b[39;49m\u001b[43mmodel\u001b[49m\u001b[43m,\u001b[49m\u001b[43m \u001b[49m\u001b[43mX\u001b[49m\u001b[43m,\u001b[49m\u001b[43m \u001b[49m\u001b[43mn_samples\u001b[49m\u001b[43m)\u001b[49m\n\u001b[1;32m     90\u001b[0m \u001b[38;5;28;01mif\u001b[39;00m \u001b[38;5;241m3\u001b[39m \u001b[38;5;241m<\u001b[39m\u001b[38;5;241m=\u001b[39m n_classes:\n\u001b[1;32m     91\u001b[0m     \u001b[38;5;28;01mraise\u001b[39;00m \u001b[38;5;167;01mException\u001b[39;00m(\u001b[38;5;124m\"\u001b[39m\u001b[38;5;124mmulticlass LIME not supported\u001b[39m\u001b[38;5;124m\"\u001b[39m)\n",
      "File \u001b[0;32m~/Vs code projects/RA Citation projects/Xai/SEP-prediction/SEPxai/lib/python3.9/site-packages/interpret/utils/_unify_predict.py:68\u001b[0m, in \u001b[0;36mdetermine_classes\u001b[0;34m(model, data, n_samples)\u001b[0m\n\u001b[1;32m     66\u001b[0m         \u001b[38;5;28;01mraise\u001b[39;00m \u001b[38;5;167;01mValueError\u001b[39;00m(msg)\n\u001b[1;32m     67\u001b[0m \u001b[38;5;28;01melse\u001b[39;00m:\n\u001b[0;32m---> 68\u001b[0m     preds \u001b[38;5;241m=\u001b[39m clean_dimensions(\u001b[43mmodel\u001b[49m\u001b[43m(\u001b[49m\u001b[43mdata\u001b[49m\u001b[43m)\u001b[49m, \u001b[38;5;124m\"\u001b[39m\u001b[38;5;124mmodel\u001b[39m\u001b[38;5;124m\"\u001b[39m)\n\u001b[1;32m     69\u001b[0m     \u001b[38;5;28;01mif\u001b[39;00m n_samples \u001b[38;5;241m==\u001b[39m \u001b[38;5;241m1\u001b[39m:  \u001b[38;5;66;03m# then the sample dimension would have been eliminated\u001b[39;00m\n\u001b[1;32m     70\u001b[0m         \u001b[38;5;28;01mif\u001b[39;00m preds\u001b[38;5;241m.\u001b[39mndim \u001b[38;5;241m!=\u001b[39m \u001b[38;5;241m1\u001b[39m:\n",
      "File \u001b[0;32m~/Vs code projects/RA Citation projects/Xai/SEP-prediction/SEP_Package/SEP_model.py:229\u001b[0m, in \u001b[0;36mSEPModel.sepxai.<locals>.predict_fn\u001b[0;34m(data)\u001b[0m\n\u001b[1;32m    226\u001b[0m \u001b[38;5;28;01mdef\u001b[39;00m \u001b[38;5;21mpredict_fn\u001b[39m(data):\n\u001b[1;32m    227\u001b[0m     \u001b[38;5;66;03m# Reshape the data back to 3D for prediction by the model\u001b[39;00m\n\u001b[1;32m    228\u001b[0m     data_reshaped \u001b[38;5;241m=\u001b[39m data\u001b[38;5;241m.\u001b[39mreshape((data\u001b[38;5;241m.\u001b[39mshape[\u001b[38;5;241m0\u001b[39m], X_test\u001b[38;5;241m.\u001b[39mshape[\u001b[38;5;241m1\u001b[39m], X_test\u001b[38;5;241m.\u001b[39mshape[\u001b[38;5;241m2\u001b[39m]))\n\u001b[0;32m--> 229\u001b[0m     predictions \u001b[38;5;241m=\u001b[39m \u001b[43mmodelxai\u001b[49m\u001b[38;5;241;43m.\u001b[39;49m\u001b[43mpredict\u001b[49m\u001b[43m(\u001b[49m\u001b[43mX_test\u001b[49m\u001b[43m,\u001b[49m\u001b[43m \u001b[49m\u001b[43mverbose\u001b[49m\u001b[38;5;241;43m=\u001b[39;49m\u001b[38;5;241;43m0\u001b[39;49m\u001b[43m)\u001b[49m\n\u001b[1;32m    230\u001b[0m     \u001b[38;5;28;01mreturn\u001b[39;00m predictions[:, \u001b[38;5;241m0\u001b[39m]\n",
      "File \u001b[0;32m~/Vs code projects/RA Citation projects/Xai/SEP-prediction/SEPxai/lib/python3.9/site-packages/keras/src/utils/traceback_utils.py:70\u001b[0m, in \u001b[0;36mfilter_traceback.<locals>.error_handler\u001b[0;34m(*args, **kwargs)\u001b[0m\n\u001b[1;32m     67\u001b[0m     filtered_tb \u001b[38;5;241m=\u001b[39m _process_traceback_frames(e\u001b[38;5;241m.\u001b[39m__traceback__)\n\u001b[1;32m     68\u001b[0m     \u001b[38;5;66;03m# To get the full stack trace, call:\u001b[39;00m\n\u001b[1;32m     69\u001b[0m     \u001b[38;5;66;03m# `tf.debugging.disable_traceback_filtering()`\u001b[39;00m\n\u001b[0;32m---> 70\u001b[0m     \u001b[38;5;28;01mraise\u001b[39;00m e\u001b[38;5;241m.\u001b[39mwith_traceback(filtered_tb) \u001b[38;5;28;01mfrom\u001b[39;00m \u001b[38;5;28;01mNone\u001b[39;00m\n\u001b[1;32m     71\u001b[0m \u001b[38;5;28;01mfinally\u001b[39;00m:\n\u001b[1;32m     72\u001b[0m     \u001b[38;5;28;01mdel\u001b[39;00m filtered_tb\n",
      "File \u001b[0;32m/var/folders/m0/r1l_5pn15jq5llrfp2hrv8k80000gn/T/__autograph_generated_filel6soqtu4.py:15\u001b[0m, in \u001b[0;36mouter_factory.<locals>.inner_factory.<locals>.tf__predict_function\u001b[0;34m(iterator)\u001b[0m\n\u001b[1;32m     13\u001b[0m \u001b[38;5;28;01mtry\u001b[39;00m:\n\u001b[1;32m     14\u001b[0m     do_return \u001b[38;5;241m=\u001b[39m \u001b[38;5;28;01mTrue\u001b[39;00m\n\u001b[0;32m---> 15\u001b[0m     retval_ \u001b[38;5;241m=\u001b[39m ag__\u001b[38;5;241m.\u001b[39mconverted_call(ag__\u001b[38;5;241m.\u001b[39mld(step_function), (ag__\u001b[38;5;241m.\u001b[39mld(\u001b[38;5;28mself\u001b[39m), ag__\u001b[38;5;241m.\u001b[39mld(iterator)), \u001b[38;5;28;01mNone\u001b[39;00m, fscope)\n\u001b[1;32m     16\u001b[0m \u001b[38;5;28;01mexcept\u001b[39;00m:\n\u001b[1;32m     17\u001b[0m     do_return \u001b[38;5;241m=\u001b[39m \u001b[38;5;28;01mFalse\u001b[39;00m\n",
      "\u001b[0;31mValueError\u001b[0m: in user code:\n\n    File \"/Users/mehulkapoor/Vs code projects/RA Citation projects/Xai/SEP-prediction/SEPxai/lib/python3.9/site-packages/keras/src/engine/training.py\", line 2341, in predict_function  *\n        return step_function(self, iterator)\n    File \"/Users/mehulkapoor/Vs code projects/RA Citation projects/Xai/SEP-prediction/SEPxai/lib/python3.9/site-packages/keras/src/engine/training.py\", line 2327, in step_function  **\n        outputs = model.distribute_strategy.run(run_step, args=(data,))\n    File \"/Users/mehulkapoor/Vs code projects/RA Citation projects/Xai/SEP-prediction/SEPxai/lib/python3.9/site-packages/keras/src/engine/training.py\", line 2315, in run_step  **\n        outputs = model.predict_step(data)\n    File \"/Users/mehulkapoor/Vs code projects/RA Citation projects/Xai/SEP-prediction/SEPxai/lib/python3.9/site-packages/keras/src/engine/training.py\", line 2283, in predict_step\n        return self(x, training=False)\n    File \"/Users/mehulkapoor/Vs code projects/RA Citation projects/Xai/SEP-prediction/SEPxai/lib/python3.9/site-packages/keras/src/utils/traceback_utils.py\", line 70, in error_handler\n        raise e.with_traceback(filtered_tb) from None\n    File \"/Users/mehulkapoor/Vs code projects/RA Citation projects/Xai/SEP-prediction/SEPxai/lib/python3.9/site-packages/keras/src/engine/input_spec.py\", line 298, in assert_input_compatibility\n        raise ValueError(\n\n    ValueError: Input 0 of layer \"model_5\" is incompatible with the layer: expected shape=(None, 12, 14), found shape=(None, 10, 15)\n"
     ]
    }
   ],
   "source": [
    "#Test trained model for FC_S and 12-hour\n",
    "from SEP_test import test\n",
    "\n",
    "models_directory='models'\n",
    "print('Test the trained models for first classification type FC_S and for time windows h=12.')\n",
    "classification_type='FC_S'\n",
    "starting_time_window=12\n",
    "ending_time_window= 12\n",
    "test(classification_type,starting_time_window,ending_time_window+1,models_directory=models_directory)"
   ]
  },
  {
   "cell_type": "code",
   "execution_count": null,
   "metadata": {
    "scrolled": false
   },
   "outputs": [
    {
     "name": "stdout",
     "output_type": "stream",
     "text": [
      "Test the trained models for second classification type F_S and for time windows h=12.\n",
      "Running classification test type: F_S  training for h = 12 hour ahead\n",
      "testing data file: data/events_f_testing_12.csv\n",
      "Loading the model and its weights.\n",
      "Printing weightdir and wdir\n",
      "models/sep_model_f_12hr\n",
      "models\n",
      "Loading weights from model dir: models/sep_model_f_12hr\n",
      "Building model for: models/sep_model_f_12hr/model_weights\n"
     ]
    },
    {
     "name": "stderr",
     "output_type": "stream",
     "text": [
      "WARNING:absl:At this time, the v2.11+ optimizer `tf.keras.optimizers.Adam` runs slowly on M1/M2 Macs, please use the legacy Keras optimizer instead, located at `tf.keras.optimizers.legacy.Adam`.\n",
      "WARNING:absl:There is a known slowdown when using v2.11+ Keras optimizers on M1/M2 Macs. Falling back to the legacy Keras optimizer, i.e., `tf.keras.optimizers.legacy.Adam`.\n"
     ]
    },
    {
     "name": "stdout",
     "output_type": "stream",
     "text": [
      "Loading weights from: models/sep_model_f_12hr/model_weights\n",
      "Loading data from data file: data/events_f_testing_12.csv\n",
      "Prediction and calibration..\n",
      "Saving result to file: results/SEP_prediction_results_F_S_12.csv\n",
      "Saving the performance metrics to files: results/SEP_performance_metrics_BiLSTM_F_S_12.csv\n",
      "-------------------------------------------------------\n",
      "\n",
      "Loading data from data file: data/events_f_training_12.csv\n",
      "Loading data from data file: data/events_f_testing_12.csv\n",
      "Printing weightdir and wdir\n",
      "models/sep_model_fc_12hr\n",
      "default_models\n",
      "Loading weights from model dir: default_models/sep_model_fc_12hr\n",
      "Building model for: default_models/sep_model_fc_12hr/model_weights\n"
     ]
    },
    {
     "name": "stderr",
     "output_type": "stream",
     "text": [
      "WARNING:absl:At this time, the v2.11+ optimizer `tf.keras.optimizers.Adam` runs slowly on M1/M2 Macs, please use the legacy Keras optimizer instead, located at `tf.keras.optimizers.legacy.Adam`.\n",
      "WARNING:absl:There is a known slowdown when using v2.11+ Keras optimizers on M1/M2 Macs. Falling back to the legacy Keras optimizer, i.e., `tf.keras.optimizers.legacy.Adam`.\n"
     ]
    },
    {
     "name": "stdout",
     "output_type": "stream",
     "text": [
      "Loading weights from: default_models/sep_model_fc_12hr/model_weights\n",
      "Model loading failed. Exiting.\n"
     ]
    }
   ],
   "source": [
    "#Test trained model for F_S and 12-hour\n",
    "from SEP_test import test\n",
    "\n",
    "models_directory='models'\n",
    "print('Test the trained models for second classification type F_S and for time windows h=12.')\n",
    "classification_type='F_S'\n",
    "test(classification_type,starting_time_window,ending_time_window+1,models_directory=models_directory)"
   ]
  },
  {
   "cell_type": "markdown",
   "metadata": {},
   "source": [
    " **Plotting the Results for Your Trained Model**<br>\n",
    "The prediction result can be plotted by passing the classification type as a variable to the function plot_result_metrics as shown in the following example. You should also pass the time window from the training, ie time_window=12 The result shows the performance metrics: Recall, Precision, Balanced Accuracy, HSS, TSS, and Weighted AUC that the model achieves for each time window 12 to 72 hours ahead."
   ]
  },
  {
   "cell_type": "code",
   "execution_count": null,
   "metadata": {
    "scrolled": false
   },
   "outputs": [
    {
     "data": {
      "image/png": "[encoded data removed]",
      "text/plain": [
       "<Figure size 1200x500 with 1 Axes>"
      ]
     },
     "metadata": {},
     "output_type": "display_data"
    }
   ],
   "source": [
    "#Plotting results for trained model for FC_S and time window =12-72\n",
    "from SEP_utils import plot_result_metrics\n",
    "plot_result_metrics('FC_S')"
   ]
  },
  {
   "cell_type": "code",
   "execution_count": null,
   "metadata": {
    "scrolled": false
   },
   "outputs": [
    {
     "data": {
      "image/png": "[encoded data removed]",
      "text/plain": [
       "<Figure size 1200x500 with 1 Axes>"
      ]
     },
     "metadata": {},
     "output_type": "display_data"
    }
   ],
   "source": [
    "#Plotting results for trained model for F_S and time window =12-72\n",
    "from SEP_utils import plot_result_metrics\n",
    "plot_result_metrics('FC_S')"
   ]
  },
  {
   "cell_type": "markdown",
   "metadata": {},
   "source": [
    "### **Timing**\n",
    "Please note that the execution time in mybinder varies based on the availability of resources. The average time to run the notebook is 10-15 minutes, but it could be more.\n",
    "\n",
    "# **Conclusions**\n",
    "We develop a biLSTM network for SEP prediction. We consider two prediction tasks. In the first task (FC_S), given a data sample x<sub>*t*</sub>at time point *t* in an AR where the AR will produce an M- or X-class flare within the next *T* hours of *t* and\n",
    "the flare initiates a CME, based on the SHARP parameters in x<sub>*t*</sub> and its preceding *m−1* data samples x<sub>t−m+1</sub>, x t−m+2 , K, x<sub> *t−1*</sub>, our biLSTM, when used as a binary prediction model, can predict whether the AR will produce an SEP event associated with the flare/CME. Furthermore, our biLSTM, when used as a probabilistic forecasting model, can provide a probabilistic estimate of how likely it is that the AR will produce an SEP event associated with the flare/CME. In the second task (F_S), given a data sample x<sub>*t*</sub> at time point *t* in an AR where the AR will produce an M- or X-class flare within the next *T* hours of *t*, based on the SHARP parameters in x<sub>*t*</sub> and its preceding *m−1* data samples x<sub>*t−m+1*</sub> , x<sub>*t−m+2*</sub> , K, x<sub>*t−1*</sub> , our biLSTM, when used as a binary prediction model, can predict whether the AR will produce an SEP event associated with the flare, and when used as a probabilistic forecasting model, can provide a probabilistic estimate of how likely it is that the AR will produce an SEP event associated with the flare, regardless of whether or not the flare initiates a CME. For both tasks, T ranges from 12 to 72 in 12 hr intervals.\n",
    "\n",
    "# **References**\n",
    "<ol>\n",
    "     <li>\n",
    "         Predicting Solar Energetic Particles Using SDO/HMI Vector Magnetic Data Products and a\n",
    "Bidirectional LSTM Network<br>\n",
    "    Yasser Abduallah, Vania K. Jordanova, Hao Liu, Qin Li, Jason T. L. Wang and Haimin Wang<br>\n",
    "        <a target='new' href='https://iopscience.iop.org/article/10.3847/1538-4365/ac5f56'>https://iopscience.iop.org/article/10.3847/1538-4365/ac5f56</a>\n",
    "    </li>      \n",
    "    <li>\n",
    "        DeepSun: Machine-Learning-as-a-Service for Solar Flare Prediction<br>\n",
    "        Yasser Abduallah, Jason T. L. Wang and Haimin Wang<br>\n",
    "        <a target='new' href='https://iopscience.iop.org/article/10.1088/1674-4527/21/7/160'>https://iopscience.iop.org/article/10.1088/1674-4527/21/7/160</a>\n",
    "    </li>\n",
    "        <li>\n",
    "        Predicting Solar Flares Using SDO/HMI Vector Magnetic Data Products and the Random Forest Algorithm<br>\n",
    "         Chang Liu, Na Deng, Jason T. L. Wang and Haimin Wang<br>\n",
    "        <a target='new' href='https://iopscience.iop.org/article/10.3847/1538-4357/aa789b'>https://iopscience.iop.org/article/10.3847/1538-4357/aa789b</a>\n",
    "    </li>\n",
    "     <li>\n",
    "         Artificial Neural Networks: An Introduction to ANN Theory and Practice<br>\n",
    "    P. J. Braspenning, F. Thuijsman, A. J. M. M. Weijters <br>\n",
    "        <a target='new' href='https://link.springer.com/book/10.1007/BFb0027019'>https://link.springer.com/book/10.1007/BFb0027019</a>\n",
    "    </li>\n",
    "     <li>\n",
    "         Using Machine Learning Methods to Forecast if Solar Flares Will Be Associated with CMEs and SEPs<br>\n",
    "    Fadil Inceoglu, Jacob H. Jeppesen, Peter Kongstad, Nestor J. Hernandez Marcano and Rune H. Jacobsen and Christoffer Karoff<br>\n",
    "        <a target='new' href='https://doi.org/10.3847%2F1538-4357%2Faac81e'>https://doi.org/10.3847%2F1538-4357%2Faac81e</a>\n",
    "    </li>     \n",
    "      \n",
    "</ol>"
   ]
  },
  {
   "cell_type": "code",
   "execution_count": null,
   "metadata": {
    "scrolled": true
   },
   "outputs": [],
   "source": []
  }
 ],
 "metadata": {
  "kernelspec": {
   "display_name": "Python 3 (ipykernel)",
   "language": "python",
   "name": "python3"
  },
  "language_info": {
   "codemirror_mode": {
    "name": "ipython",
    "version": 3
   },
   "file_extension": ".py",
   "mimetype": "text/x-python",
   "name": "python",
   "nbconvert_exporter": "python",
   "pygments_lexer": "ipython3",
   "version": "3.9.19"
  },
  "toc": {
   "base_numbering": 1,
   "nav_menu": {},
   "number_sections": true,
   "sideBar": true,
   "skip_h1_title": false,
   "title_cell": "Table of Contents",
   "title_sidebar": "Contents",
   "toc_cell": true,
   "toc_position": {
    "height": "calc(100% - 180px)",
    "left": "10px",
    "top": "150px",
    "width": "248.182px"
   },
   "toc_section_display": true,
   "toc_window_display": true
  }
 },
 "nbformat": 4,
 "nbformat_minor": 4
}
